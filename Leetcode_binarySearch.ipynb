{
 "cells": [
  {
   "cell_type": "markdown",
   "id": "d91c156f",
   "metadata": {},
   "source": [
    "### basic binary search"
   ]
  },
  {
   "cell_type": "code",
   "execution_count": 62,
   "id": "f09012c4",
   "metadata": {},
   "outputs": [
    {
     "name": "stdout",
     "output_type": "stream",
     "text": [
      "3\n",
      "7\n",
      "-1\n",
      "-1\n",
      "-1\n"
     ]
    }
   ],
   "source": [
    "def binarySearch(nums, target):\n",
    " #nums:有序\n",
    "    start = 0\n",
    "    end = len(nums) - 1\n",
    "    \n",
    "    while start <= end:\n",
    "        mid = (start + end) // 2 \n",
    "        if nums[mid] == target:\n",
    "            start = mid\n",
    "            return start\n",
    "        elif nums[mid] > target:     #中间数大于目标值，查找左边\n",
    "            end = mid - 1\n",
    "        else:                       #中间数小于目标值，查找右边\n",
    "            start = mid + 1\n",
    "    return -1\n",
    "\n",
    "##递归，不对\n",
    "def binarySearch_2(nums, target):\n",
    " \n",
    "    start = 0\n",
    "    end = len(nums) - 1\n",
    "  \n",
    "    if len(nums) == 0:\n",
    "        return -1\n",
    "    else:\n",
    "        mid = (start + end) // 2\n",
    "        if target == nums[mid]:\n",
    "            return mid\n",
    "        elif nums[mid] > target:\n",
    "            return binarySearch_2(nums[:mid - 1], target)\n",
    "        else:\n",
    "            return binarySearch_2(nums[mid + 1:], target)\n",
    "\n",
    "nums = [17, 20, 26, 31, 44, 54, 55, 77, 93]\n",
    "print(binarySearch(nums, 31))\n",
    "print(binarySearch(nums, 77))\n",
    "print(binarySearch(nums, 25))\n",
    "print(binarySearch_2(nums, 31))\n",
    "print(binarySearch_2(nums, 100))\n"
   ]
  },
  {
   "cell_type": "code",
   "execution_count": 63,
   "id": "09aaee5b",
   "metadata": {},
   "outputs": [
    {
     "name": "stdout",
     "output_type": "stream",
     "text": [
      "6\n"
     ]
    }
   ],
   "source": [
    "#网上的递归代码\n",
    "def BinarySearch(L,x,low,high):\n",
    "    \n",
    "    if(low>high):\n",
    "        return -1\n",
    "    else:\n",
    "        mid=(low+high)//2\n",
    "        if(L[mid]==x):\n",
    "            return mid\n",
    "        elif L[mid]>x:\n",
    "            return BinarySearch(L,x,low,mid-1)\n",
    "        else:\n",
    "            return BinarySearch(L,x,mid+1,high)\n",
    "\n",
    "L = [17, 20, 26, 31, 44, 54, 55, 77, 93]\n",
    "x = 55\n",
    "print(BinarySearch(L,x,0,len(L)-1))\n",
    "\n",
    "# L=[]\n",
    "# a=int(input('请输入数据：'))\n",
    "# while(a!=0):\n",
    "#     L.append(a)\n",
    "#     a=int(input('请输入数据：'))\n",
    "# L.sort()\n",
    "# x=int(input('请输入查找的数据：'))\n",
    "# print(BinarySearch(L,x,0,len(L)-1))"
   ]
  },
  {
   "cell_type": "code",
   "execution_count": 64,
   "id": "0518891e",
   "metadata": {},
   "outputs": [
    {
     "name": "stdout",
     "output_type": "stream",
     "text": [
      "the target is not in the array\n"
     ]
    }
   ],
   "source": [
    "#更新递归\n",
    "def binarySearch (arr, l, r, x): \n",
    "    if r >= l: \n",
    "        mid = int(l + (r - l)/2)\n",
    "        if arr[mid] == x: \n",
    "            return mid \n",
    "        elif arr[mid] > x: \n",
    "            return binarySearch(arr, l, mid-1, x) \n",
    "        else: \n",
    "            return binarySearch(arr, mid+1, r, x) \n",
    "    else: \n",
    "        return -1\n",
    "\n",
    "arr = [ 2, 3, 4, 10, 40 ] \n",
    "x = 50\n",
    "l = 0\n",
    "r = len(arr) - 1\n",
    "\n",
    "result = binarySearch(arr, l, r, x) \n",
    "if result != -1: \n",
    "    print (\"the index of the target in the array is:  %d\" % result )\n",
    "else: \n",
    "    print (\"the target is not in the array\")"
   ]
  },
  {
   "cell_type": "markdown",
   "id": "b21a1897",
   "metadata": {},
   "source": [
    "## Leetcode 34. Find First and Last Position of Element in Sorted Array\n",
    "\n",
    "Given an array of integers nums sorted in ascending order, find the starting and ending position of a given target value.\n",
    "\n",
    "If target is not found in the array, return [-1, -1].\n",
    "\n",
    "You must write an algorithm with O(log n) runtime complexity."
   ]
  },
  {
   "cell_type": "code",
   "execution_count": 66,
   "id": "b905bfdb",
   "metadata": {},
   "outputs": [],
   "source": [
    "class SolutionPosition(object):\n",
    "    def searchRange(self, nums, target):\n",
    "        \"\"\"\n",
    "        :type nums: List[int]\n",
    "        :type target: int\n",
    "        :rtype: List[int]\n",
    "        \"\"\"\n",
    "        left = bisect.bisect_left(nums, target)\n",
    "        right = bisect.bisect_right(nums, target)\n",
    "        if left == right:\n",
    "            return [-1, -1]\n",
    "        return [left, right - 1]"
   ]
  },
  {
   "cell_type": "markdown",
   "id": "9489485c",
   "metadata": {},
   "source": [
    "### general solution for leetcode 34\n",
    "\n",
    "The index of the leftmost and rightmost corresponding values is searched twice. "
   ]
  },
  {
   "cell_type": "code",
   "execution_count": 68,
   "id": "9baafc9b",
   "metadata": {},
   "outputs": [
    {
     "data": {
      "text/plain": [
       "[3, 4]"
      ]
     },
     "execution_count": 68,
     "metadata": {},
     "output_type": "execute_result"
    },
    {
     "data": {
      "text/plain": [
       "[-1, -1]"
      ]
     },
     "execution_count": 68,
     "metadata": {},
     "output_type": "execute_result"
    },
    {
     "data": {
      "text/plain": [
       "[5, 5]"
      ]
     },
     "execution_count": 68,
     "metadata": {},
     "output_type": "execute_result"
    },
    {
     "data": {
      "text/plain": [
       "[-1, -1]"
      ]
     },
     "execution_count": 68,
     "metadata": {},
     "output_type": "execute_result"
    }
   ],
   "source": [
    "class SolutionFull(object):\n",
    "    def searchRange(self, nums, target):\n",
    "        \"\"\"\n",
    "        :type nums: List[int]\n",
    "        :type target: int\n",
    "        :rtype: List[int]\n",
    "        \"\"\"\n",
    "        left = self.firstOccurrence(nums, target)\n",
    "        right = self.lastOccurrence(nums, target)\n",
    "\n",
    "        return [left, right]\n",
    "    \n",
    "    def firstOccurrence(self, nums, target):\n",
    "        # Left snd right pointers\n",
    "        left = 0 \n",
    "        right = len(nums) - 1\n",
    "        # Index of first occurrence\n",
    "        firstOccurrence = -1\n",
    "        while left <= right:\n",
    "            # Middle index\n",
    "            middle = left + (right - left) // 2\n",
    "             #if the value is the middle index, return the index and move the rightmost pointer\n",
    "             # to the left of the middle for the next search in the left subarray\n",
    "            if target == nums[middle]:\n",
    "                firstOccurrence = middle\n",
    "                right = middle - 1\n",
    "             # if the value is smaller, move the rightmost pointer to the left subarray\n",
    "            elif target < nums[middle]:\n",
    "                right = middle - 1\n",
    "             # if the value is larger, move the leftmost pointer to the right subarray\n",
    "            else:\n",
    "                left = middle + 1\n",
    "        return firstOccurrence\n",
    "\n",
    "    def lastOccurrence(self, nums, target):\n",
    "        # Left snd right pointers\n",
    "        left = 0\n",
    "        right = len(nums) - 1\n",
    "        # Index of first occurrence\n",
    "        lastOccurrence = -1\n",
    "        # Loop until the two pointers meet\n",
    "        while left <= right:\n",
    "            middle = left + (right - left) // 2\n",
    "             #if the value is the middle index, return the index and move the leftmost pointer\n",
    "             # to the right of the middle for the next search in the right subarray        \n",
    "            if target == nums[middle]:\n",
    "                lastOccurrence = middle\n",
    "                left = middle + 1\n",
    "            elif target < nums[middle]:\n",
    "                right = middle - 1\n",
    "            else:\n",
    "                left = middle + 1\n",
    "        return lastOccurrence\n",
    "       \n",
    "\n",
    "nums = [5,7,7,8,8,10]\n",
    "try11 = SolutionFull()\n",
    "p11 = try1.searchRange(nums,8)\n",
    "p11\n",
    "\n",
    "try22 = SolutionFull()\n",
    "p22 = try2.searchRange(nums,6)\n",
    "p22\n",
    "\n",
    "try33 = SolutionFull()\n",
    "p33 = try3.searchRange(nums,10)\n",
    "p33\n",
    "\n",
    "n2 = []\n",
    "try4 = SolutionFull()\n",
    "p44 = try3.searchRange(n2,0)\n",
    "p44"
   ]
  },
  {
   "cell_type": "markdown",
   "id": "3e6dc6d1",
   "metadata": {},
   "source": [
    "### using bisect"
   ]
  },
  {
   "cell_type": "code",
   "execution_count": 65,
   "id": "5e4a95db",
   "metadata": {},
   "outputs": [],
   "source": [
    "import bisect\n",
    "from IPython.core.interactiveshell import InteractiveShell\n",
    "InteractiveShell.ast_node_interactivity = \"all\"\n",
    "\n",
    "#https://docs.python.org/3/library/bisect.html"
   ]
  },
  {
   "cell_type": "code",
   "execution_count": 67,
   "id": "52172af2",
   "metadata": {},
   "outputs": [
    {
     "data": {
      "text/plain": [
       "[3, 4]"
      ]
     },
     "execution_count": 67,
     "metadata": {},
     "output_type": "execute_result"
    },
    {
     "data": {
      "text/plain": [
       "[-1, -1]"
      ]
     },
     "execution_count": 67,
     "metadata": {},
     "output_type": "execute_result"
    },
    {
     "data": {
      "text/plain": [
       "[5, 5]"
      ]
     },
     "execution_count": 67,
     "metadata": {},
     "output_type": "execute_result"
    },
    {
     "data": {
      "text/plain": [
       "[-1, -1]"
      ]
     },
     "execution_count": 67,
     "metadata": {},
     "output_type": "execute_result"
    }
   ],
   "source": [
    "nums = [5,7,7,8,8,10]\n",
    "t1 = 8\n",
    "try1 = SolutionPosition()\n",
    "p1 = try1.searchRange(nums,t1)\n",
    "p1\n",
    "\n",
    "t2 = 6\n",
    "try2 = SolutionPosition()\n",
    "p2 = try2.searchRange(nums,t2)\n",
    "p2\n",
    "\n",
    "t3 = 10\n",
    "try3 = SolutionPosition()\n",
    "p3 = try3.searchRange(nums,t3)\n",
    "p3\n",
    "\n",
    "n2 = []\n",
    "t4 = 0\n",
    "try4 = SolutionPosition()\n",
    "p4 = try3.searchRange(n2,t4)\n",
    "p4"
   ]
  },
  {
   "cell_type": "markdown",
   "id": "f9cd0670",
   "metadata": {},
   "source": [
    "## Leetcode 69. Sqrt(x):\n",
    "\n",
    "Given a non-negative integer x, compute and return the square root of x.\n",
    "\n",
    "Since the return type is an integer, the decimal digits are truncated, and only the integer part of the result is returned.\n",
    "\n",
    "Note: You are not allowed to use any built-in exponent function or operator, such as pow(x, 0.5) or x ** 0.5."
   ]
  },
  {
   "cell_type": "code",
   "execution_count": 69,
   "id": "fa5983a8",
   "metadata": {},
   "outputs": [],
   "source": [
    "class Solution(object):\n",
    "    def mySqrt(self, x):\n",
    "        left = 0 \n",
    "        right = x + 1\n",
    "        while left < right:\n",
    "            mid = (left + right) // 2\n",
    "            if mid * mid == x:\n",
    "                return mid\n",
    "            elif mid * mid < x:\n",
    "                left = mid + 1\n",
    "            else:\n",
    "                right = mid\n",
    "        return left - 1"
   ]
  },
  {
   "cell_type": "code",
   "execution_count": 70,
   "id": "c49b473f",
   "metadata": {},
   "outputs": [
    {
     "data": {
      "text/plain": [
       "6"
      ]
     },
     "execution_count": 70,
     "metadata": {},
     "output_type": "execute_result"
    },
    {
     "data": {
      "text/plain": [
       "8"
      ]
     },
     "execution_count": 70,
     "metadata": {},
     "output_type": "execute_result"
    }
   ],
   "source": [
    "in1 = 36\n",
    "eg = Solution()\n",
    "out1 = eg.mySqrt(in1)\n",
    "out1\n",
    "\n",
    "in2 = 80\n",
    "eg2 = Solution()\n",
    "out2 = eg.mySqrt(in2)\n",
    "out2"
   ]
  },
  {
   "cell_type": "markdown",
   "id": "1f744eec",
   "metadata": {},
   "source": [
    "## leetcode33 Search in Rotated Sorted Array:\n",
    "\n",
    "There is an integer array nums sorted in ascending order (with distinct values).\n",
    "\n",
    "Prior to being passed to your function, nums is possibly rotated at an unknown pivot index k (1 <= k < nums.length) such that the resulting array is [nums[k], nums[k+1], ..., nums[n-1], nums[0], nums[1], ..., nums[k-1]] (0-indexed). For example, [0,1,2,4,5,6,7] might be rotated at pivot index 3 and become [4,5,6,7,0,1,2].\n",
    "\n",
    "Given the array nums after the possible rotation and an integer target, return the index of target if it is in nums, or -1 if it is not in nums.\n",
    "\n",
    "You must write an algorithm with O(log n) runtime complexity.\n"
   ]
  },
  {
   "cell_type": "code",
   "execution_count": 73,
   "id": "411dec1d",
   "metadata": {},
   "outputs": [
    {
     "data": {
      "text/plain": [
       "4"
      ]
     },
     "execution_count": 73,
     "metadata": {},
     "output_type": "execute_result"
    },
    {
     "data": {
      "text/plain": [
       "-1"
      ]
     },
     "execution_count": 73,
     "metadata": {},
     "output_type": "execute_result"
    }
   ],
   "source": [
    "class SolutionSearch(object):\n",
    "    def search(self, nums, target):\n",
    "        left = 0\n",
    "        right = len(nums) - 1\n",
    "\n",
    "        while left <= right:\n",
    "            mid = (left + right) // 2\n",
    "            if target == nums[mid]:\n",
    "                return mid\n",
    "\n",
    "            if nums[mid] < nums[right]:\n",
    "                # when the right side of mid is ascending\n",
    "                if nums[mid] < target <= nums[right]:\n",
    "                    left = mid + 1\n",
    "                elif target < nums[mid] or nums[right] < target:\n",
    "                    right = mid - 1\n",
    "            else:\n",
    "                # when the left side of mid is ascending\n",
    "                if nums[left] <= target < nums[mid]:\n",
    "                    right = mid - 1\n",
    "                elif target < nums[left] or nums[mid] < target:\n",
    "                    left = mid + 1\n",
    "\n",
    "        return -1\n",
    "\n",
    "    \n",
    "nums = [4,5,6,7,0,1,2]\n",
    "t1 = 0\n",
    "eg1= SolutionSearch()\n",
    "s1 = eg1.search(nums,t1)\n",
    "s1\n",
    "\n",
    "t2 = 8\n",
    "eg2= SolutionSearch()\n",
    "s2 = eg1.search(nums,t2)\n",
    "s2\n"
   ]
  },
  {
   "cell_type": "code",
   "execution_count": null,
   "id": "87fd24a7",
   "metadata": {},
   "outputs": [],
   "source": []
  },
  {
   "cell_type": "code",
   "execution_count": null,
   "id": "af79702a",
   "metadata": {},
   "outputs": [],
   "source": []
  }
 ],
 "metadata": {
  "kernelspec": {
   "display_name": "Python 3",
   "language": "python",
   "name": "python3"
  },
  "language_info": {
   "codemirror_mode": {
    "name": "ipython",
    "version": 3
   },
   "file_extension": ".py",
   "mimetype": "text/x-python",
   "name": "python",
   "nbconvert_exporter": "python",
   "pygments_lexer": "ipython3",
   "version": "3.8.8"
  }
 },
 "nbformat": 4,
 "nbformat_minor": 5
}
