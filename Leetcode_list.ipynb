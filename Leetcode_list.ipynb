{
 "cells": [
  {
   "cell_type": "markdown",
   "metadata": {},
   "source": [
    "# linked list\n",
    "\n",
    "A linked list is a sequence of data elements, which are connected together via links. Each data element contains a connection to another data element in form of a pointer. Thus, it’s a set of structures ordered not by their physical placement in memory (like an array) but by logical links that are stored as a part of the info within the structure itself.\n",
    "\n",
    "Python does not have linked lists in its standard library. \n",
    "\n",
    "https://www.pythonf.cn/read/4725\n",
    "\n",
    "https://zhuanlan.zhihu.com/p/60057180 : Python数据结构之链表"
   ]
  },
  {
   "cell_type": "markdown",
   "metadata": {},
   "source": [
    "**SUMMARY**:\n",
    "\n",
    "`Advantages Of Linked List`:\n",
    "\n",
    "* Dynamic data structure: A linked list is a dynamic arrangement so it can grow and shrink at runtime by allocating and deallocating memory. So there is no need to give the initial size of the linked list.\n",
    "* No memory wastage: In the Linked list, efficient memory utilization can be achieved since the size of the linked list increase or decrease at run time so there is no memory wastage and there is no need to pre-allocate the memory.\n",
    "* Implementation: Linear data structures like stack and queues are often easily implemented using a linked list.\n",
    "* **Insertion and Deletion Operations** Insertion and deletion operations are quite easier in the linked list. There is no need to shift elements after the insertion or deletion of an element only the address present in the next pointer needs to be updated.\n",
    "\n",
    "`Disadvantages Of Linked List`:\n",
    "\n",
    "* Memory usage: More memory is required in the linked list as compared to an array. Because in a linked list, a pointer is also required to store the address of the next element and it requires extra memory for itself.\n",
    "* **Traversal**: In a Linked list traversal (read) is more time-consuming as compared to an array. Direct access to an element is not possible in a linked list as in an array by index. For example, for accessing a mode at position n, one has to traverse all the nodes before it.\n",
    "* Reverse Traversing: In a singly linked list reverse traversing is not possible, but in the case of a doubly-linked list, it can be possible as it contains a pointer to the previously connected nodes with each node. For performing this extra memory is required for the back pointer hence, there is a wastage of memory.\n",
    "* Random Access: Random access is not as possible in a linked list due to its dynamic memory allocation.\n",
    "\n",
    "Arrays are up-to O(N) inserts and O(1) reads. Linked Lists are O(1) inserts and O(N) reads. Both are worst-case O(N) deletes."
   ]
  },
  {
   "cell_type": "code",
   "execution_count": 1,
   "metadata": {},
   "outputs": [],
   "source": [
    "class ListNode:\n",
    "    def __init__(self, data, next = None):\n",
    "        self.val = data\n",
    "        self.next = next\n",
    "\n",
    "def init_list(data):\n",
    "    head = ListNode(data[0])\n",
    "    for element in data[1:]:\n",
    "        ptr = head\n",
    "        while ptr.next:\n",
    "            ptr = ptr.next\n",
    "        ptr.next = ListNode(element)\n",
    "    return head\n",
    "\n",
    "def print_list(head):\n",
    "    ptr = head\n",
    "    print('[', end = \"\")\n",
    "    while ptr:\n",
    "        print(ptr.val, end = \", \")\n",
    "        ptr = ptr.next\n",
    "    print(']')\n",
    "    "
   ]
  },
  {
   "cell_type": "markdown",
   "metadata": {},
   "source": [
    "## leetcode #21: merge two sorted list\n",
    "Merge two sorted linked lists and return it as a sorted list. The list should be made by splicing together the nodes of the first two lists."
   ]
  },
  {
   "cell_type": "code",
   "execution_count": 2,
   "metadata": {},
   "outputs": [],
   "source": [
    "###遍历两个链表，每次选两者中较小值的节点，依次连接起来得到最终的链表\n",
    "class SolutionTra():\n",
    "    def mergeTwoLists(self, l1, l2):\n",
    "        if not l1:\n",
    "            return l2\n",
    "        if not l2:\n",
    "            return l1\n",
    "        \n",
    "        head = cur = ListNode(0)\n",
    "        while l1!= None and l2 != None:\n",
    "            if l1.val < l2.val:\n",
    "                cur.next = l1\n",
    "                l1 = l1.next\n",
    "            else:\n",
    "                cur.next = l2\n",
    "                l2 = l2.next\n",
    "            cur = cur.next\n",
    "        cur.next = l1 or l2\n",
    "        return head.next"
   ]
  },
  {
   "cell_type": "code",
   "execution_count": 3,
   "metadata": {},
   "outputs": [
    {
     "name": "stdout",
     "output_type": "stream",
     "text": [
      "[1, 1, 2, 3, 4, 4, 5, 6, 7, 8, ]\n"
     ]
    }
   ],
   "source": [
    "l1 = init_list([1,2,4,7])\n",
    "l2 = init_list([1,3,4,5,6,8])\n",
    "ob1 = SolutionTra()\n",
    "l3 = ob1.mergeTwoLists(l1,l2)\n",
    "print_list(l3)"
   ]
  },
  {
   "cell_type": "code",
   "execution_count": 4,
   "metadata": {},
   "outputs": [
    {
     "name": "stdout",
     "output_type": "stream",
     "text": [
      "[1, 1, 2, 3, 4, 4, 5, 5, 6, 7, 8, 9, ]\n"
     ]
    }
   ],
   "source": [
    "class SolutionRecursion:\n",
    "      def mergeTwoLists(self, l1, l2):\n",
    "\n",
    "        if not l1:\n",
    "            return l2\n",
    "        if not l2:\n",
    "            return l1\n",
    "        \n",
    "        ##recursion: if l1 < l2, to l1.next, compare with l2, update l1.next;...\n",
    "        if(l1.val<=l2.val): \n",
    "            l1.next = self.mergeTwoLists(l1.next,l2) \n",
    "            return l1\n",
    "        else:\n",
    "            l2.next = self.mergeTwoLists(l1,l2.next)\n",
    "            return l2\n",
    "\n",
    "h1 = init_list([1,2,4,5,7])\n",
    "h2 = init_list([1,3,4,5,6,8,9])\n",
    "ob2 = SolutionRecursion()\n",
    "h3 = ob2.mergeTwoLists(h1,h2)\n",
    "print_list(h3)"
   ]
  },
  {
   "cell_type": "markdown",
   "metadata": {},
   "source": [
    "## Leetcode #88. Merge Sorted Array\n",
    "\n",
    "You are given two integer arrays `nums1` and `nums2`, sorted in non-decreasing order, and two integers *m* and *n*, representing the number of elements in `nums1` and `nums2` respectively.\n",
    "\n",
    "Note:\n",
    "\n",
    "1. Merge `nums1` and `nums2` into a single array sorted in non-decreasing order.\n",
    "2. The final sorted array should not be returned by the function, but instead be stored inside the array `nums1`.\n",
    "3. To accommodate this, `nums1` has a length of *m + n*, where the first *m* elements denote the elements that should be merged, and the last *n* elements are set to 0 and should be ignored. `nums2` has a length of *n*.\n"
   ]
  },
  {
   "cell_type": "code",
   "execution_count": 5,
   "metadata": {},
   "outputs": [],
   "source": [
    "#Start from the last initialized elements in both lists, compare the two elements and \n",
    "# copy the larger element to the end of nums1.\n",
    "class SolutionMerge:\n",
    "    '''\n",
    "     A: a list of integers, length of A is m + n\n",
    "     m: an integer, the number of initilized elements in A\n",
    "     B: a list of integers\n",
    "     n: an integer, length of B\n",
    "    '''\n",
    "    def merge(self, A, m, B, n):\n",
    "        p1 = m - 1\n",
    "        p2 = n - 1\n",
    "        ptr = len(A) - 1\n",
    "        \n",
    "        while p1 >= 0 and p2 >= 0:\n",
    "            if A[p1] > B[p2]:\n",
    "                A[ptr] = A[p1]\n",
    "                p1 -= 1\n",
    "            else:\n",
    "                A[ptr] = B[p2]\n",
    "                p2 -= 1\n",
    "            ptr -= 1\n",
    "        if p2 > 0:\n",
    "            A[:p2] = B[:p2]\n",
    "            "
   ]
  },
  {
   "cell_type": "code",
   "execution_count": 6,
   "metadata": {},
   "outputs": [
    {
     "name": "stdout",
     "output_type": "stream",
     "text": [
      "[1, 2, 3, 4, 5, 6, 7]\n"
     ]
    }
   ],
   "source": [
    "A = [1, 3, 5, 0, 0, 0, 0]\n",
    "B = [2, 4, 6, 7]\n",
    "SolutionMerge().merge(A, 3, B, 4)\n",
    "print(A)"
   ]
  },
  {
   "cell_type": "markdown",
   "metadata": {},
   "source": [
    "## leetcode #148. Sort List\n",
    "\n",
    "Given the head of a linked list, return the list after sorting it in ascending order.\n",
    "\n",
    "Follow up: Can you sort the linked list in O(n logn) time and O(1) memory (i.e. constant space)?"
   ]
  },
  {
   "cell_type": "code",
   "execution_count": 7,
   "metadata": {},
   "outputs": [],
   "source": [
    "class SolutionSortList:\n",
    "    def sortList(self, head):\n",
    "        \"\"\"\n",
    "        divide and conquer, merge sort\n",
    "        \n",
    "        \"\"\"\n",
    "        if head is None:\n",
    "            return None\n",
    "        return self.split(head)\n",
    "\n",
    "    def split(self, head):\n",
    "        \"\"\"\n",
    "        divide, Fast and Slow pointers:\n",
    "        https://medium.com/@viiiiiinnn/fast-and-slow-pointers-4f24e5f82d9b\n",
    "        \n",
    "        \"\"\"\n",
    "        if head.next is None:\n",
    "            return head\n",
    "        quick, slow, temp = head, head, head\n",
    "        while quick is not None and quick.next is not None:\n",
    "            temp = slow\n",
    "            slow = slow.next\n",
    "            quick = quick.next.next\n",
    "        temp.next = None  # ******\n",
    "\n",
    "        i = self.split(head)\n",
    "        j = self.split(slow)\n",
    "        return self.merge(i, j)\n",
    "    \n",
    "    def merge(self, l1, l2):\n",
    "        #same algorithm with #21\n",
    "        if not l1:\n",
    "            return l2\n",
    "        if not l2:\n",
    "            return l1\n",
    "        head = cur = ListNode(0)\n",
    "        while l1!= None and l2 != None:\n",
    "            if l1.val < l2.val:\n",
    "                cur.next = l1\n",
    "                l1 = l1.next\n",
    "            else:\n",
    "                cur.next = l2\n",
    "                l2 = l2.next\n",
    "            cur = cur.next\n",
    "        cur.next = l1 or l2\n",
    "        return head.next"
   ]
  },
  {
   "cell_type": "code",
   "execution_count": 8,
   "metadata": {},
   "outputs": [
    {
     "name": "stdout",
     "output_type": "stream",
     "text": [
      "[1, 2, 3, 4, 5, 5, 6, 8, 10, 23, ]\n"
     ]
    }
   ],
   "source": [
    "ob3 = SolutionSortList()\n",
    "head = init_list([5, 8, 4, 1, 5, 6, 3, 10, 23,2])\n",
    "print_list(ob3.sortList(head))"
   ]
  },
  {
   "cell_type": "markdown",
   "metadata": {},
   "source": [
    "## Leetcode #23 Merge k Sorted Lists\n",
    "\n",
    "You are given `an array of k linked-lists lists`, each linked-list is sorted in ascending order.\n",
    "\n",
    "Merge all the linked-lists into **one sorted linked-list** and return it.\n",
    "\n",
    "Input: lists = [[1,4,5],[1,3,4],[2,6]]\n",
    "Output: [1,1,2,3,4,4,5,6]"
   ]
  },
  {
   "cell_type": "code",
   "execution_count": 9,
   "metadata": {},
   "outputs": [],
   "source": [
    "class SolutionMergeKSortedList:\n",
    "    \n",
    "    def mergeKLists(self, lists):\n",
    "        length = len(lists)\n",
    "        if length == 0:\n",
    "            return None\n",
    "        if length == 1:\n",
    "            return lists[0]\n",
    "        else:\n",
    "            mid = length // 2\n",
    "            return self.mergeTwoLists(self.mergeKLists(lists[:mid]),self.mergeKLists(lists[mid:length]))\n",
    "        \n",
    "    def mergeTwoLists(self, l1, l2):\n",
    "        #same algorithm with #21\n",
    "        if not l1:\n",
    "            return l2\n",
    "        if not l2:\n",
    "            return l1\n",
    "        head = cur = ListNode(0)\n",
    "        while l1!= None and l2 != None:\n",
    "            if l1.val < l2.val:\n",
    "                cur.next = l1\n",
    "                l1 = l1.next\n",
    "            else:\n",
    "                cur.next = l2\n",
    "                l2 = l2.next\n",
    "            cur = cur.next\n",
    "        cur.next = l1 or l2\n",
    "        return head.next\n"
   ]
  },
  {
   "cell_type": "code",
   "execution_count": 13,
   "metadata": {},
   "outputs": [
    {
     "name": "stdout",
     "output_type": "stream",
     "text": [
      "[1, 1, 2, 3, 4, 5, 6, 7, 9, 12, ]\n"
     ]
    }
   ],
   "source": [
    "ob5 = SolutionMergeKSortedList()\n",
    "lists = [[1,4,5],[1,3],[2,6],[7,9,12]]\n",
    "ls = []\n",
    "for ll in lists:\n",
    "    l = init_list(ll)\n",
    "    ls.append(l)\n",
    "print_list(ob5.mergeKLists(ls))"
   ]
  },
  {
   "cell_type": "markdown",
   "metadata": {},
   "source": [
    "Runtime: 156 ms, faster than 30.79% of Python3 online submissions for Merge k Sorted Lists"
   ]
  },
  {
   "cell_type": "markdown",
   "metadata": {},
   "source": [
    "TBS:solution from discussion: https://leetcode.com/problems/merge-k-sorted-lists/discuss/1439506/Python-O(Nlog(k))-Using-Heaps-with-Detailed-Comments"
   ]
  },
  {
   "cell_type": "code",
   "execution_count": null,
   "metadata": {},
   "outputs": [],
   "source": []
  }
 ],
 "metadata": {
  "kernelspec": {
   "display_name": "Python 3",
   "language": "python",
   "name": "python3"
  },
  "language_info": {
   "codemirror_mode": {
    "name": "ipython",
    "version": 3
   },
   "file_extension": ".py",
   "mimetype": "text/x-python",
   "name": "python",
   "nbconvert_exporter": "python",
   "pygments_lexer": "ipython3",
   "version": "3.7.4"
  }
 },
 "nbformat": 4,
 "nbformat_minor": 2
}
